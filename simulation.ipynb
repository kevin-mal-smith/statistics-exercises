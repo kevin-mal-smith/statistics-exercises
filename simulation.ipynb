{
 "cells": [
  {
   "cell_type": "code",
   "execution_count": 57,
   "id": "5376b8a1",
   "metadata": {},
   "outputs": [],
   "source": [
    "%matplotlib inline\n",
    "import numpy as np\n",
    "import pandas as pd\n",
    "\n",
    "import viz # curriculum example visualizations\n",
    "\n",
    "np.random.seed(29)\n"
   ]
  },
  {
   "cell_type": "markdown",
   "id": "f6cdc693",
   "metadata": {},
   "source": [
    "### exercise 1:\n",
    "How likely is it that you roll doubles when rolling two dice?"
   ]
  },
  {
   "cell_type": "code",
   "execution_count": 5,
   "id": "c6d2925e",
   "metadata": {},
   "outputs": [
    {
     "data": {
      "text/plain": [
       "0.1716"
      ]
     },
     "execution_count": 5,
     "metadata": {},
     "output_type": "execute_result"
    }
   ],
   "source": [
    "n_trials = nrows = 10_000\n",
    "n_dice = ncols = 2\n",
    "\n",
    "rolls = np.random.choice([1, 2, 3, 4, 5, 6], n_trials * n_dice).reshape(nrows, ncols)\n",
    "doubles = pd.DataFrame(rolls, columns=['dice_1','dice_2'])\n",
    "                                       \n",
    "(doubles.dice_1 == doubles.dice_2).mean()\n",
    "#17%"
   ]
  },
  {
   "cell_type": "markdown",
   "id": "37fc3911",
   "metadata": {},
   "source": [
    "### exercise 2:\n",
    "If you flip 8 coins, what is the probability of getting exactly 3 heads? What is the probability of getting more than 3 heads?"
   ]
  },
  {
   "cell_type": "code",
   "execution_count": 5,
   "id": "1fe545ff",
   "metadata": {},
   "outputs": [
    {
     "name": "stdout",
     "output_type": "stream",
     "text": [
      "0.21694\n",
      "0.63673\n"
     ]
    }
   ],
   "source": [
    "coins=ncols = 8\n",
    "n_trials = nrows = 100000\n",
    "\n",
    "flips = np.random.choice(['heads','tails'],n_trials*coins).reshape(nrows,ncols)\n",
    "\n",
    "hnd = flips == 'heads'\n",
    "\n",
    "print((hnd.sum(axis=1)==3).mean())\n",
    "print((hnd.sum(axis=1)>3).mean())\n",
    "\n",
    "# 21%\n",
    "# 64%"
   ]
  },
  {
   "cell_type": "markdown",
   "id": "2fab6df8",
   "metadata": {},
   "source": [
    "### exercise 3:\n",
    "There are approximitely 3 web development cohorts for every 1 data science cohort at Codeup. Assuming that Codeup randomly selects an alumni to put on a billboard, what are the odds that the two billboards I drive past both have data science students on them?"
   ]
  },
  {
   "cell_type": "code",
   "execution_count": 24,
   "id": "787f9511",
   "metadata": {},
   "outputs": [
    {
     "data": {
      "text/plain": [
       "0.06278"
      ]
     },
     "execution_count": 24,
     "metadata": {},
     "output_type": "execute_result"
    }
   ],
   "source": [
    "DS_stud = .25\n",
    "nsign = ncols = 2\n",
    "n_tries = nrows = 10**5\n",
    "data = np.random.random((nrows, ncols))\n",
    "\n",
    "DS_sign = data < DS_stud\n",
    "\n",
    "(DS_sign.sum(axis=1)==2).mean()\n",
    "\n",
    "#6.27%"
   ]
  },
  {
   "cell_type": "markdown",
   "id": "38cca799",
   "metadata": {},
   "source": [
    "### exercise 4:\n",
    "Codeup students buy, on average, 3 poptart packages with a standard deviation of 1.5 a day from the snack vending machine. If on monday the machine is restocked with 17 poptart packages, how likely is it that I will be able to buy some poptarts on Friday afternoon? (Remember, if you have mean and standard deviation, use the np.random.normal) You'll need to make a judgement call on how to handle some of your values"
   ]
  },
  {
   "cell_type": "code",
   "execution_count": 30,
   "id": "a3fd9517",
   "metadata": {},
   "outputs": [
    {
     "data": {
      "text/plain": [
       "0.72364"
      ]
     },
     "execution_count": 30,
     "metadata": {},
     "output_type": "execute_result"
    }
   ],
   "source": [
    "n_days = ncols = 5\n",
    "\n",
    "tarts = np.random.normal(3,1.5,(nrows,ncols))\n",
    "\n",
    "(tarts.sum(axis=1)<17).mean()\n",
    "#around 72%"
   ]
  },
  {
   "cell_type": "markdown",
   "id": "846bedc9",
   "metadata": {},
   "source": [
    "### exercise 5:\n",
    "Compare Heights\n",
    "\n",
    "Men have an average height of 178 cm and standard deviation of 8cm.\n",
    "Women have a mean of 170, sd = 6cm.\n",
    "Since you have means and standard deviations, you can use np.random.normal to generate observations.\n",
    "If a man and woman are chosen at random, what is the likelihood the woman is taller than the man?"
   ]
  },
  {
   "cell_type": "code",
   "execution_count": 52,
   "id": "4174a5fd",
   "metadata": {},
   "outputs": [
    {
     "data": {
      "text/plain": [
       "0.21413"
      ]
     },
     "execution_count": 52,
     "metadata": {},
     "output_type": "execute_result"
    }
   ],
   "source": [
    "man = np.random.normal(178,8,(nrows))\n",
    "woman = np.random.normal(170,6,(nrows))\n",
    "compare = man<woman\n",
    "compare.mean()"
   ]
  },
  {
   "cell_type": "markdown",
   "id": "a5c69ba9",
   "metadata": {},
   "source": [
    "### exercise 6:\n",
    "When installing anaconda on a student's computer, there's a 1 in 250 chance that the download is corrupted and the installation fails. What are the odds that after having 50 students download anaconda, no one has an installation issue? 100 students?\n",
    "\n",
    "What is the probability that we observe an installation issue within the first 150 students that download anaconda?\n",
    "\n",
    "How likely is it that 450 students all download anaconda without an issue?"
   ]
  },
  {
   "cell_type": "code",
   "execution_count": 32,
   "id": "fe662cca",
   "metadata": {},
   "outputs": [
    {
     "data": {
      "text/plain": [
       "0.44736"
      ]
     },
     "execution_count": 32,
     "metadata": {},
     "output_type": "execute_result"
    }
   ],
   "source": [
    "prob=(1/250)\n",
    "\n",
    "students = ncols = 150\n",
    "\n",
    "results = np.random.random((nrows,ncols))\n",
    "\n",
    "issue = results < prob\n",
    "\n",
    "(issue.sum(axis=1)>0).mean()\n",
    "\n",
    "# 82% chance no students have an issue out of 50 students.\n",
    "# 68% chance no students have an issue out of 100 students.\n",
    "# 45% chance that a student WILL have an issue out of 150 students.\n",
    "# 17% chance no student will have an issue out of 450 students."
   ]
  },
  {
   "cell_type": "markdown",
   "id": "45b845e1",
   "metadata": {},
   "source": [
    "### exercise 7:\n",
    "There's a 70% chance on any given day that there will be at least one food truck at Travis Park. However, you haven't seen a food truck there in 3 days. How unlikely is this?\n",
    "\n",
    "How likely is it that a food truck will show up sometime this week?"
   ]
  },
  {
   "cell_type": "code",
   "execution_count": 69,
   "id": "9d0df5a5",
   "metadata": {},
   "outputs": [
    {
     "data": {
      "text/plain": [
       "0.02605"
      ]
     },
     "execution_count": 69,
     "metadata": {},
     "output_type": "execute_result"
    }
   ],
   "source": [
    "prob=(.7)\n",
    "\n",
    "tries = ncols = 3\n",
    "\n",
    "sightings = np.random.random((nrows,ncols))\n",
    "\n",
    "ft = sightings < prob\n",
    "\n",
    "(ft.sum(axis=1)==0).mean()\n",
    "\n",
    "# 3% chance of going 3 days without seeing a food truck\n",
    "# 92% chance of seeing a food truck within the next 7 days."
   ]
  },
  {
   "cell_type": "markdown",
   "id": "7992a68b",
   "metadata": {},
   "source": [
    "### exercise 8:\n",
    "\n",
    "If 23 people are in the same room, what are the odds that two of them share a birthday? What if it's 20 people? 40?\n",
    "\n"
   ]
  },
  {
   "cell_type": "code",
   "execution_count": 68,
   "id": "3212020b",
   "metadata": {},
   "outputs": [
    {
     "data": {
      "text/plain": [
       "0.8915"
      ]
     },
     "execution_count": 68,
     "metadata": {},
     "output_type": "execute_result"
    }
   ],
   "source": [
    "bd = np.random.choice(range(1,366), size = (10000,40))\n",
    "\n",
    "\n",
    "(pd.DataFrame(bd).nunique(axis=1)<40).mean()\n",
    "\n",
    "# 50% chance with 23 people\n",
    "# 40% chance with 20 people\n",
    "# 89% chance with 40"
   ]
  }
 ],
 "metadata": {
  "kernelspec": {
   "display_name": "Python 3 (ipykernel)",
   "language": "python",
   "name": "python3"
  },
  "language_info": {
   "codemirror_mode": {
    "name": "ipython",
    "version": 3
   },
   "file_extension": ".py",
   "mimetype": "text/x-python",
   "name": "python",
   "nbconvert_exporter": "python",
   "pygments_lexer": "ipython3",
   "version": "3.9.7"
  }
 },
 "nbformat": 4,
 "nbformat_minor": 5
}
