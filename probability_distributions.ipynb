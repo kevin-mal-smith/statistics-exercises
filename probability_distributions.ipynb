{
 "cells": [
  {
   "cell_type": "code",
   "execution_count": 1,
   "id": "5aaf7040",
   "metadata": {},
   "outputs": [],
   "source": [
    "import matplotlib.pyplot as plt\n",
    "import numpy as np\n",
    "from scipy import stats\n",
    "import viz # curriculum viz example code\n",
    "\n",
    "np.random.seed(123)\n"
   ]
  },
  {
   "cell_type": "markdown",
   "id": "c91100ec",
   "metadata": {},
   "source": [
    "### Exercise 1:\n",
    "A bank found that the average number of cars waiting during the noon hour at a drive-up window follows a Poisson distribution with a mean of 2 cars. Make a chart of this distribution and answer these questions concerning the probability of cars waiting at the drive-up window.\n",
    "\n",
    "What is the probability that no cars drive up in the noon hour?\n",
    "What is the probability that 3 or more cars come through the drive through?\n",
    "How likely is it that the drive through gets at least 1 car?"
   ]
  },
  {
   "cell_type": "code",
   "execution_count": 32,
   "id": "db90156d",
   "metadata": {},
   "outputs": [
    {
     "name": "stdout",
     "output_type": "stream",
     "text": [
      "0.135\n",
      "0.323\n",
      "0.865\n"
     ]
    }
   ],
   "source": [
    "print(stats.poisson(2).pmf(0).round(3))\n",
    "# 13.5% chance of no cars in line\n",
    "print(stats.poisson(2).sf(2).round(3))\n",
    "# 32.3% chance that 3 or more cars are in line\n",
    "print(stats.poisson(2).sf(0).round(3))\n",
    "# 86.5% chance of 1 or more car in line"
   ]
  },
  {
   "cell_type": "markdown",
   "id": "cea37c69",
   "metadata": {},
   "source": [
    "### exercise 2:\n",
    "Grades of State University graduates are normally distributed with a mean of 3.0 and a standard deviation of .3. Calculate the following:\n",
    "\n",
    "What grade point average is required to be in the top 5% of the graduating class?\n",
    "What GPA constitutes the bottom 15% of the class?\n",
    "An eccentric alumnus left scholarship money for students in the third decile from the bottom of their class. Determine the range of the third decile. Would a student with a 2.8 grade point average qualify for this scholarship?\n",
    "If I have a GPA of 3.5, what percentile am I in?"
   ]
  },
  {
   "cell_type": "code",
   "execution_count": 3,
   "id": "5f7b8f49",
   "metadata": {},
   "outputs": [
    {
     "name": "stdout",
     "output_type": "stream",
     "text": [
      "a GPA of 3.49 is required to be in the top 5%.\n",
      "a GPA of 1.0 would be in the bottom 15%.\n",
      "a GPA in the range [2.748 2.843] or lower is required to be in the third decile. 2.8 qualifies.\n",
      "a GPA of 3.5 is in the 95.0th percentile. \n"
     ]
    }
   ],
   "source": [
    "gpa = stats.norm(3,.3)\n",
    "\n",
    "print(f'a GPA of {gpa.isf(.05).round(2)} is required to be in the top 5%.')\n",
    "print(f'a GPA of {gpa.sf(.15).round(3)} would be in the bottom 15%.')\n",
    "print(f'a GPA in the range {gpa.ppf((.2,.3)).round(3)} or lower is required to be in the third decile. 2.8 qualifies.')\n",
    "print(f'a GPA of 3.5 is in the {gpa.cdf(3.5).round(2)*100}th percentile. ')\n",
    "\n"
   ]
  },
  {
   "cell_type": "markdown",
   "id": "59657fe5",
   "metadata": {},
   "source": [
    "### exercise 3:\n",
    "A marketing website has an average click-through rate of 2%. One day they observe 4326 visitors and 97 click-throughs. How likely is it that this many people or more click through?"
   ]
  },
  {
   "cell_type": "code",
   "execution_count": 4,
   "id": "40c78699",
   "metadata": {},
   "outputs": [
    {
     "data": {
      "text/plain": [
       "0.14"
      ]
     },
     "execution_count": 4,
     "metadata": {},
     "output_type": "execute_result"
    }
   ],
   "source": [
    "click = stats.binom(4326,.02)\n",
    "click.sf(96).round(2)"
   ]
  },
  {
   "cell_type": "markdown",
   "id": "4372b16b",
   "metadata": {},
   "source": [
    "### exercise 4:\n",
    "You are working on some statistics homework consisting of 100 questions where all of the answers are a probability rounded to the hundreths place. Looking to save time, you put down random probabilities as the answer to each question.\n",
    "\n",
    "What is the probability that at least one of your first 60 answers is correct?"
   ]
  },
  {
   "cell_type": "code",
   "execution_count": 56,
   "id": "ec004026",
   "metadata": {},
   "outputs": [
    {
     "data": {
      "text/plain": [
       "0.45"
      ]
     },
     "execution_count": 56,
     "metadata": {},
     "output_type": "execute_result"
    }
   ],
   "source": [
    "stats.binom(60,.01).sf(0).round(2)"
   ]
  },
  {
   "cell_type": "markdown",
   "id": "7ac36d32",
   "metadata": {},
   "source": [
    "### exercise 5:\n",
    "The codeup staff tends to get upset when the student break area is not cleaned up. Suppose that there's a 3% chance that any one student cleans the break area when they visit it, and, on any given day, about 90% of the 3 active cohorts of 22 students visit the break area. How likely is it that the break area gets cleaned up each day? How likely is it that it goes two days without getting cleaned up? All week?"
   ]
  },
  {
   "cell_type": "code",
   "execution_count": 93,
   "id": "1af6a34b",
   "metadata": {},
   "outputs": [
    {
     "name": "stdout",
     "output_type": "stream",
     "text": [
      "The probability of the breakroom getting cleaned each day is 0.84\n",
      "The probability that the breakroom doesnt get cleaned after 2 days is 0.03\n",
      "The probability that the breakroom doesnt get cleaned all week is 0.0001\n"
     ]
    }
   ],
   "source": [
    "\n",
    "print(f'The probability of the breakroom getting cleaned each day is {stats.binom((66*.9),.03).sf(0).round(2)}')\n",
    "print(f'The probability that the breakroom doesnt get cleaned after 2 days is {stats.binom(((66*.9)*2),.03).pmf(0).round(2)}')\n",
    "print(f'The probability that the breakroom doesnt get cleaned all week is {stats.binom(((66*.9)*5),.03).pmf(0).round(4)}')\n"
   ]
  },
  {
   "cell_type": "markdown",
   "id": "9c58e863",
   "metadata": {},
   "source": [
    "### exercise 6:\n",
    "You want to get lunch at La Panaderia, but notice that the line is usually very long at lunchtime. After several weeks of careful observation, you notice that the average number of people in line when your lunch break starts is normally distributed with a mean of 15 and standard deviation of 3. If it takes 2 minutes for each person to order, and 10 minutes from ordering to getting your food, what is the likelihood that you have at least 15 minutes left to eat your food before you have to go back to class? Assume you have one hour for lunch, and ignore travel time to and from La Panaderia."
   ]
  },
  {
   "cell_type": "code",
   "execution_count": 36,
   "id": "3bcff570",
   "metadata": {},
   "outputs": [
    {
     "data": {
      "text/plain": [
       "0.63"
      ]
     },
     "execution_count": 36,
     "metadata": {},
     "output_type": "execute_result"
    }
   ],
   "source": [
    "# if there are 17 people in line you will not have time to eat \n",
    "# because 17*2=34 plus the 2 minutes for your order, and the 10 minute wait leaves you with only 14 minutes to eat.\n",
    "stats.norm(15,3).cdf(16).round(2)"
   ]
  },
  {
   "cell_type": "markdown",
   "id": "f2d9f12a",
   "metadata": {},
   "source": [
    "### exercise 7:\n",
    "Connect to the employees database and find the average salary of current employees, along with the standard deviation. For the following questions, calculate the answer based on modeling the employees salaries with a normal distribution defined by the calculated mean and standard deviation then compare this answer to the actual values present in the salaries dataset.\n",
    "\n",
    "What percent of employees earn less than 60,000?\n",
    "What percent of employees earn more than 95,000?\n",
    "What percent of employees earn between 65,000 and 80,000?\n",
    "What do the top 5% of employees make?"
   ]
  },
  {
   "cell_type": "code",
   "execution_count": 11,
   "id": "0e17286f",
   "metadata": {},
   "outputs": [],
   "source": [
    "import pandas as pd\n",
    "import env\n",
    "\n",
    "url = f'mysql+pymysql://{env.username}:{env.password}@{env.host}/employees'\n",
    "salaries = pd.read_sql('''SELECT salary FROM salaries\n",
    "                WHERE to_date > now()''', url)\n",
    "mean = salaries.salary.mean()\n",
    "std = salaries.salary.std()\n",
    "salaries = stats.norm(mean,std)"
   ]
  },
  {
   "cell_type": "code",
   "execution_count": 38,
   "id": "625c5c5e",
   "metadata": {},
   "outputs": [
    {
     "name": "stdout",
     "output_type": "stream",
     "text": [
      "0.24 of employees earn less than $60,000\n",
      "0.09 of employees earn more than $95,000\n",
      "0.34 of employees earn between $65000 and $80000\n",
      "the top 5% of employees earn over $100484.64 a year\n"
     ]
    }
   ],
   "source": [
    "print(f'{1 - salaries.sf(60000).round(2)} of employees earn less than $60,000')\n",
    "print(f'{ salaries.sf(95000).round(2)} of employees earn more than $95,000')\n",
    "print(f'{(salaries.sf(65000)-salaries.sf(80000)).round(2)} of employees earn between $65000 and $80000')\n",
    "print(f'the top 5% of employees earn over ${salaries.isf(.05).round(2)} a year')\n",
    "\n"
   ]
  }
 ],
 "metadata": {
  "kernelspec": {
   "display_name": "Python 3 (ipykernel)",
   "language": "python",
   "name": "python3"
  },
  "language_info": {
   "codemirror_mode": {
    "name": "ipython",
    "version": 3
   },
   "file_extension": ".py",
   "mimetype": "text/x-python",
   "name": "python",
   "nbconvert_exporter": "python",
   "pygments_lexer": "ipython3",
   "version": "3.9.7"
  }
 },
 "nbformat": 4,
 "nbformat_minor": 5
}
